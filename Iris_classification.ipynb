{
 "cells": [
  {
   "cell_type": "code",
   "execution_count": 1,
   "metadata": {},
   "outputs": [],
   "source": [
    "import pandas\n",
    "import numpy as np"
   ]
  },
  {
   "cell_type": "code",
   "execution_count": 2,
   "metadata": {},
   "outputs": [],
   "source": [
    "dataset = pandas.read_csv(\"iris.csv\")\n",
    "dataset = dataset.sample(frac=1)"
   ]
  },
  {
   "cell_type": "code",
   "execution_count": 3,
   "metadata": {},
   "outputs": [
    {
     "name": "stdout",
     "output_type": "stream",
     "text": [
      "     sepal_length  sepal_width  petal_length  petal_width\n",
      "142           5.8          2.7           5.1          1.9\n",
      "52            6.9          3.1           4.9          1.5\n",
      "36            5.5          3.5           1.3          0.2\n",
      "1             4.9          3.0           1.4          0.2\n",
      "18            5.7          3.8           1.7          0.3\n",
      "\n",
      "shape of X is (150, 4)\n"
     ]
    }
   ],
   "source": [
    "#Getting the input Data.\n",
    "X = dataset[[\"sepal_length\",\"sepal_width\",\"petal_length\",\"petal_width\"]]\n",
    "print(X.head())\n",
    "X = np.array(X)\n",
    "print(f\"\\nshape of X is {X.shape}\")"
   ]
  },
  {
   "cell_type": "code",
   "execution_count": 4,
   "metadata": {},
   "outputs": [
    {
     "name": "stdout",
     "output_type": "stream",
     "text": [
      "142     Iris-virginica\n",
      "52     Iris-versicolor\n",
      "36         Iris-setosa\n",
      "1          Iris-setosa\n",
      "18         Iris-setosa\n",
      "Name: species, dtype: object\n",
      "\n",
      "Shape of Y is (150, 1)\n"
     ]
    }
   ],
   "source": [
    "#Getting the Classes. \n",
    "Y = dataset[\"species\"]\n",
    "print(Y.head())\n",
    "Y = np.array(Y).reshape((150,1))\n",
    "print(f\"\\nShape of Y is {Y.shape}\")"
   ]
  },
  {
   "cell_type": "code",
   "execution_count": 5,
   "metadata": {},
   "outputs": [],
   "source": [
    "#Pre-Processing the output Classes.\n",
    "Y[Y==\"Iris-setosa\"] = 0\n",
    "Y[Y==\"Iris-versicolor\"] = 1\n",
    "Y[Y==\"Iris-virginica\"] = 2"
   ]
  },
  {
   "cell_type": "code",
   "execution_count": 6,
   "metadata": {},
   "outputs": [
    {
     "name": "stdout",
     "output_type": "stream",
     "text": [
      "Shape of Y after Pre-Processing is (150, 1)\n",
      "\n",
      "[2 1 0 0 0 1 1 2 0 2 0 0 2 0 0 0 0 2 1 0 2 0 1 2 1 1 1 1 0 0 2 2 2 2 1 0 2\n",
      " 1 0 0 0 2 2 1 0 1 1 2 2 1 0 2 0 1 0 1 0 0 0 2 2 1 2 1 1 2 2 0 1 1 1 0 1 0\n",
      " 1 0 0 2 1 2 1 0 1 1 0 2 2 0 0 1 2 1 2 2 1 1 0 0 1 1 1 1 2 2 0 0 0 0 1 2 0\n",
      " 1 2 2 2 1 2 1 1 1 2 0 2 0 1 2 0 2 0 1 2 1 0 2 2 2 0 0 0 2 1 1 1 2 0 1 2 2\n",
      " 2 2]\n"
     ]
    }
   ],
   "source": [
    "print(f\"Shape of Y after Pre-Processing is {Y.shape}\\n\")\n",
    "print(np.squeeze(Y))"
   ]
  },
  {
   "cell_type": "code",
   "execution_count": 7,
   "metadata": {},
   "outputs": [],
   "source": [
    "from sklearn import preprocessing "
   ]
  },
  {
   "cell_type": "code",
   "execution_count": 8,
   "metadata": {},
   "outputs": [
    {
     "name": "stdout",
     "output_type": "stream",
     "text": [
      "Shape of Y is (150, 3)\n"
     ]
    },
    {
     "name": "stderr",
     "output_type": "stream",
     "text": [
      "c:\\users\\shambu\\appdata\\local\\programs\\python\\python37\\lib\\site-packages\\sklearn\\preprocessing\\_encoders.py:415: FutureWarning: The handling of integer data will change in version 0.22. Currently, the categories are determined based on the range [0, max(values)], while in the future they will be determined based on the unique values.\n",
      "If you want the future behaviour and silence this warning, you can specify \"categories='auto'\".\n",
      "In case you used a LabelEncoder before this OneHotEncoder to convert the categories to integers, then you can now use the OneHotEncoder directly.\n",
      "  warnings.warn(msg, FutureWarning)\n"
     ]
    }
   ],
   "source": [
    "#One Hot Encoding Y.\n",
    "one_hot = preprocessing.OneHotEncoder()\n",
    "O_e =  one_hot.fit(Y)\n",
    "Y_e = O_e.transform(Y)\n",
    "Y = Y_e.toarray()\n",
    "print(f\"Shape of Y is {Y.shape}\")"
   ]
  },
  {
   "cell_type": "code",
   "execution_count": 9,
   "metadata": {},
   "outputs": [],
   "source": [
    "import tensorflow as tf\n",
    "\n",
    "from tensorflow.keras.models import Sequential \n",
    "from tensorflow.keras.layers import Dense,Dropout"
   ]
  },
  {
   "cell_type": "code",
   "execution_count": 10,
   "metadata": {},
   "outputs": [],
   "source": [
    "model = Sequential()\n",
    "model.add(Dense(10,input_shape=(4,),activation='relu'))\n",
    "model.add(Dense(10,activation='relu'))\n",
    "model.add(Dense(10,activation='relu'))\n",
    "model.add(Dropout(0.2))\n",
    "model.add(Dense(3))"
   ]
  },
  {
   "cell_type": "code",
   "execution_count": 11,
   "metadata": {},
   "outputs": [
    {
     "name": "stdout",
     "output_type": "stream",
     "text": [
      "WARNING:tensorflow:Layer dense is casting an input tensor from dtype float64 to the layer's dtype of float32, which is new behavior in TensorFlow 2.  The layer has dtype float32 because it's dtype defaults to floatx.\n",
      "\n",
      "If you intended to run this layer in float32, you can safely ignore this warning. If in doubt, this warning is likely only an issue if you are porting a TensorFlow 1.X model to TensorFlow 2.\n",
      "\n",
      "To change all layers to have dtype float64 by default, call `tf.keras.backend.set_floatx('float64')`. To change just this layer, pass dtype='float64' to the layer constructor. If you are the author of this layer, you can disable autocasting by passing autocast=False to the base Layer constructor.\n",
      "\n"
     ]
    }
   ],
   "source": [
    "predictions = model(X).numpy()"
   ]
  },
  {
   "cell_type": "code",
   "execution_count": 12,
   "metadata": {},
   "outputs": [
    {
     "name": "stdout",
     "output_type": "stream",
     "text": [
      "[[0.30060497 0.60891485 0.09048025]\n",
      " [0.3051782  0.61609834 0.07872337]\n",
      " [0.28733787 0.5755495  0.13711268]\n",
      " [0.30517185 0.5413889  0.15343921]\n",
      " [0.2868019  0.5829144  0.13028374]]\n",
      "5.0\n",
      "[1 1 1 1 1]\n"
     ]
    }
   ],
   "source": [
    "#Initial Predictions \n",
    "Y_beta = tf.nn.softmax(predictions).numpy()\n",
    "print(Y_beta[:5])\n",
    "print(np.sum(Y_beta[:5]))\n",
    "Y_beta = np.argmax(Y_beta,axis = 1)\n",
    "print(Y_beta[:5])"
   ]
  },
  {
   "cell_type": "code",
   "execution_count": 13,
   "metadata": {},
   "outputs": [],
   "source": [
    "lossSoft = tf.keras.losses.CategoricalCrossentropy(from_logits=True)"
   ]
  },
  {
   "cell_type": "code",
   "execution_count": 14,
   "metadata": {},
   "outputs": [
    {
     "name": "stdout",
     "output_type": "stream",
     "text": [
      "1.3139826\n"
     ]
    }
   ],
   "source": [
    "print(lossSoft(Y[:5],predictions[:5]).numpy())"
   ]
  },
  {
   "cell_type": "code",
   "execution_count": 15,
   "metadata": {},
   "outputs": [],
   "source": [
    "X_train =  X[:-50]\n",
    "Y_train = Y[:-50]\n",
    "X_test = X[100:-1]\n",
    "Y_test = Y[100:-1]\n",
    "model.compile(optimizer = \"adam\",loss=lossSoft,metrics=[\"accuracy\"])"
   ]
  },
  {
   "cell_type": "code",
   "execution_count": 21,
   "metadata": {},
   "outputs": [
    {
     "name": "stdout",
     "output_type": "stream",
     "text": [
      "Train on 150 samples\n",
      "Epoch 1/10\n",
      "150/150 [==============================] - 0s 164us/sample - loss: 0.2053 - accuracy: 0.9067\n",
      "Epoch 2/10\n",
      "150/150 [==============================] - 0s 121us/sample - loss: 0.2443 - accuracy: 0.9000\n",
      "Epoch 3/10\n",
      "150/150 [==============================] - 0s 125us/sample - loss: 0.2462 - accuracy: 0.8867\n",
      "Epoch 4/10\n",
      "150/150 [==============================] - 0s 130us/sample - loss: 0.2603 - accuracy: 0.8600\n",
      "Epoch 5/10\n",
      "150/150 [==============================] - 0s 154us/sample - loss: 0.2465 - accuracy: 0.8800\n",
      "Epoch 6/10\n",
      "150/150 [==============================] - 0s 127us/sample - loss: 0.2363 - accuracy: 0.9000\n",
      "Epoch 7/10\n",
      "150/150 [==============================] - 0s 116us/sample - loss: 0.1963 - accuracy: 0.9467\n",
      "Epoch 8/10\n",
      "150/150 [==============================] - 0s 155us/sample - loss: 0.2425 - accuracy: 0.8933\n",
      "Epoch 9/10\n",
      "150/150 [==============================] - 0s 109us/sample - loss: 0.2504 - accuracy: 0.9200\n",
      "Epoch 10/10\n",
      "150/150 [==============================] - 0s 143us/sample - loss: 0.2027 - accuracy: 0.9400\n"
     ]
    },
    {
     "data": {
      "text/plain": [
       "<tensorflow.python.keras.callbacks.History at 0x1aad68aae48>"
      ]
     },
     "execution_count": 21,
     "metadata": {},
     "output_type": "execute_result"
    }
   ],
   "source": [
    "model.fit(X,Y,epochs=10)"
   ]
  },
  {
   "cell_type": "code",
   "execution_count": 22,
   "metadata": {},
   "outputs": [],
   "source": [
    "probability_model = tf.keras.Sequential([\n",
    "  model,\n",
    "  tf.keras.layers.Softmax()\n",
    "])"
   ]
  },
  {
   "cell_type": "code",
   "execution_count": 23,
   "metadata": {},
   "outputs": [
    {
     "name": "stdout",
     "output_type": "stream",
     "text": [
      "[2 1 0 0 0 1 1 2 0 2 0 0 2 0 0 0 0 2 1 0 2 0 1 2 1 1 1 1 0 0 2 2 2 2 1 0 2\n",
      " 1 0 0 0 2 2 2 0 1 1 2 2 1 0 2 0 1 0 1 0 0 0 2 2 1 2 1 1 2 2 0 1 1 1 0 1 0\n",
      " 2 0 0 2 2 2 1 0 1 1 0 2 2 0 0 1 2 1 2 2 1 1 0 0 1 1]\n",
      "[[0. 0. 1.]\n",
      " [0. 1. 0.]\n",
      " [1. 0. 0.]\n",
      " [1. 0. 0.]\n",
      " [1. 0. 0.]\n",
      " [0. 1. 0.]\n",
      " [0. 1. 0.]\n",
      " [0. 0. 1.]\n",
      " [1. 0. 0.]\n",
      " [0. 0. 1.]\n",
      " [1. 0. 0.]\n",
      " [1. 0. 0.]\n",
      " [0. 0. 1.]\n",
      " [1. 0. 0.]\n",
      " [1. 0. 0.]\n",
      " [1. 0. 0.]\n",
      " [1. 0. 0.]\n",
      " [0. 0. 1.]\n",
      " [0. 1. 0.]\n",
      " [1. 0. 0.]\n",
      " [0. 0. 1.]\n",
      " [1. 0. 0.]\n",
      " [0. 1. 0.]\n",
      " [0. 0. 1.]\n",
      " [0. 1. 0.]\n",
      " [0. 1. 0.]\n",
      " [0. 1. 0.]\n",
      " [0. 1. 0.]\n",
      " [1. 0. 0.]\n",
      " [1. 0. 0.]\n",
      " [0. 0. 1.]\n",
      " [0. 0. 1.]\n",
      " [0. 0. 1.]\n",
      " [0. 0. 1.]\n",
      " [0. 1. 0.]\n",
      " [1. 0. 0.]\n",
      " [0. 0. 1.]\n",
      " [0. 1. 0.]\n",
      " [1. 0. 0.]\n",
      " [1. 0. 0.]\n",
      " [1. 0. 0.]\n",
      " [0. 0. 1.]\n",
      " [0. 0. 1.]\n",
      " [0. 1. 0.]\n",
      " [1. 0. 0.]\n",
      " [0. 1. 0.]\n",
      " [0. 1. 0.]\n",
      " [0. 0. 1.]\n",
      " [0. 0. 1.]\n",
      " [0. 1. 0.]\n",
      " [1. 0. 0.]\n",
      " [0. 0. 1.]\n",
      " [1. 0. 0.]\n",
      " [0. 1. 0.]\n",
      " [1. 0. 0.]\n",
      " [0. 1. 0.]\n",
      " [1. 0. 0.]\n",
      " [1. 0. 0.]\n",
      " [1. 0. 0.]\n",
      " [0. 0. 1.]\n",
      " [0. 0. 1.]\n",
      " [0. 1. 0.]\n",
      " [0. 0. 1.]\n",
      " [0. 1. 0.]\n",
      " [0. 1. 0.]\n",
      " [0. 0. 1.]\n",
      " [0. 0. 1.]\n",
      " [1. 0. 0.]\n",
      " [0. 1. 0.]\n",
      " [0. 1. 0.]\n",
      " [0. 1. 0.]\n",
      " [1. 0. 0.]\n",
      " [0. 1. 0.]\n",
      " [1. 0. 0.]\n",
      " [0. 1. 0.]\n",
      " [1. 0. 0.]\n",
      " [1. 0. 0.]\n",
      " [0. 0. 1.]\n",
      " [0. 1. 0.]\n",
      " [0. 0. 1.]\n",
      " [0. 1. 0.]\n",
      " [1. 0. 0.]\n",
      " [0. 1. 0.]\n",
      " [0. 1. 0.]\n",
      " [1. 0. 0.]\n",
      " [0. 0. 1.]\n",
      " [0. 0. 1.]\n",
      " [1. 0. 0.]\n",
      " [1. 0. 0.]\n",
      " [0. 1. 0.]\n",
      " [0. 0. 1.]\n",
      " [0. 1. 0.]\n",
      " [0. 0. 1.]\n",
      " [0. 0. 1.]\n",
      " [0. 1. 0.]\n",
      " [0. 1. 0.]\n",
      " [1. 0. 0.]\n",
      " [1. 0. 0.]\n",
      " [0. 1. 0.]\n",
      " [0. 1. 0.]]\n"
     ]
    }
   ],
   "source": [
    "print(np.argmax(probability_model(X[:100]).numpy(),axis=1))\n",
    "print(Y[:100])"
   ]
  },
  {
   "cell_type": "code",
   "execution_count": null,
   "metadata": {},
   "outputs": [],
   "source": []
  }
 ],
 "metadata": {
  "kernelspec": {
   "display_name": "Python 3",
   "language": "python",
   "name": "python3"
  },
  "language_info": {
   "codemirror_mode": {
    "name": "ipython",
    "version": 3
   },
   "file_extension": ".py",
   "mimetype": "text/x-python",
   "name": "python",
   "nbconvert_exporter": "python",
   "pygments_lexer": "ipython3",
   "version": "3.7.3"
  }
 },
 "nbformat": 4,
 "nbformat_minor": 2
}
